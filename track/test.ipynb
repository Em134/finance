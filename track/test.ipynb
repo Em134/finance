{
 "cells": [
  {
   "cell_type": "code",
   "execution_count": 1,
   "metadata": {},
   "outputs": [
    {
     "name": "stdout",
     "output_type": "stream",
     "text": [
      "Welcome to use Wind Quant API for Python (WindPy)!\n",
      "\n",
      "COPYRIGHT (C) 2024 WIND INFORMATION CO., LTD. ALL RIGHTS RESERVED.\n",
      "IN NO CIRCUMSTANCE SHALL WIND BE RESPONSIBLE FOR ANY DAMAGES OR LOSSES CAUSED BY USING WIND QUANT API FOR Python.\n",
      "Wind terminal started successfully.\n",
      "Wind terminal started successfully.\n"
     ]
    }
   ],
   "source": [
    "from Modules import PortfolioState, WeeklyPortfolioManager\n",
    "from Modules import TradingDay, TradingWeek, PredictionFetcher, DateHelper\n",
    "import datetime\n",
    "\n",
    "\n",
    "date_helper = DateHelper()\n",
    "start_date = '20240126'\n",
    "last_state = PortfolioState(1, 1, 1, 1, 4000, 1)\n",
    "manager = WeeklyPortfolioManager()\n",
    "predict_fetcher = PredictionFetcher('dataset\\daily_data.xlsx')"
   ]
  },
  {
   "cell_type": "code",
   "execution_count": 2,
   "metadata": {},
   "outputs": [],
   "source": [
    "init_week = TradingWeek(date_helper.convert_to_datetime(start_date) + datetime.timedelta(days=7))\n",
    "init_state = PortfolioState()\n",
    "init_state.last_signal = predict_fetcher.get_prediction_for_date(start_date)"
   ]
  },
  {
   "cell_type": "code",
   "execution_count": 3,
   "metadata": {},
   "outputs": [],
   "source": [
    "all_res = []\n",
    "no_intra = []"
   ]
  },
  {
   "cell_type": "code",
   "execution_count": null,
   "metadata": {},
   "outputs": [],
   "source": []
  },
  {
   "cell_type": "code",
   "execution_count": 4,
   "metadata": {},
   "outputs": [],
   "source": [
    "last_state = init_state\n",
    "this_week = init_week"
   ]
  },
  {
   "cell_type": "code",
   "execution_count": 5,
   "metadata": {},
   "outputs": [],
   "source": [
    "for date in date_helper.generate_date_range(date_helper.convert_to_datetime(start_date) + datetime.timedelta(days=7), '20240829', 7):\n",
    "    this_week = TradingWeek(date)\n",
    "    if not this_week.has_trading_days:\n",
    "        continue\n",
    "    this_week.intra_reposition = False\n",
    "    \n",
    "    manager.manage_portfolio_weekly(last_state=last_state, this_week=this_week)\n",
    "    last_state = manager.state\n",
    "    all_res.append(last_state)\n",
    "\n"
   ]
  },
  {
   "cell_type": "code",
   "execution_count": 6,
   "metadata": {},
   "outputs": [
    {
     "data": {
      "text/plain": [
       "PortfolioState(nav=array([1.06051164]), nav_final=array([1.06051164]), position=1, position_size=0.5, last_trade_price=array([4864.89695161]), last_signal=1)"
      ]
     },
     "execution_count": 6,
     "metadata": {},
     "output_type": "execute_result"
    }
   ],
   "source": [
    "manager.manage_portfolio_weekly(init_state, init_week)"
   ]
  },
  {
   "cell_type": "code",
   "execution_count": 7,
   "metadata": {},
   "outputs": [],
   "source": [
    "import matplotlib.pyplot as plt"
   ]
  },
  {
   "cell_type": "code",
   "execution_count": 8,
   "metadata": {},
   "outputs": [],
   "source": [
    "plt_list = [x.nav for x in all_res]"
   ]
  },
  {
   "cell_type": "code",
   "execution_count": 11,
   "metadata": {},
   "outputs": [
    {
     "data": {
      "text/plain": [
       "[1,\n",
       " array([1.18468266]),\n",
       " array([1.41033403]),\n",
       " array([1.34674955]),\n",
       " array([1.38351967]),\n",
       " array([1.38321065]),\n",
       " array([1.43244681]),\n",
       " array([1.43305295]),\n",
       " array([1.44935174]),\n",
       " array([1.43762361]),\n",
       " array([1.47517621]),\n",
       " array([1.49271317]),\n",
       " array([1.42738275]),\n",
       " array([1.45190805]),\n",
       " array([1.43707881]),\n",
       " array([1.45120549]),\n",
       " array([1.37540098]),\n",
       " array([1.38064732]),\n",
       " array([1.42944424]),\n",
       " array([1.41224233]),\n",
       " array([1.48572784]),\n",
       " array([1.50657236]),\n",
       " array([1.5468172]),\n",
       " array([1.51204916]),\n",
       " array([1.51227887]),\n",
       " array([1.55958114]),\n",
       " array([1.59533293]),\n",
       " array([1.56471053]),\n",
       " array([1.55760603])]"
      ]
     },
     "execution_count": 11,
     "metadata": {},
     "output_type": "execute_result"
    }
   ],
   "source": [
    "plt_list\n"
   ]
  },
  {
   "cell_type": "code",
   "execution_count": 10,
   "metadata": {},
   "outputs": [
    {
     "data": {
      "text/plain": [
       "[<matplotlib.lines.Line2D at 0x245eeb21df0>]"
      ]
     },
     "execution_count": 10,
     "metadata": {},
     "output_type": "execute_result"
    },
    {
     "data": {
      "image/png": "[encoded data removed]",
      "text/plain": [
       "<Figure size 640x480 with 1 Axes>"
      ]
     },
     "metadata": {},
     "output_type": "display_data"
    }
   ],
   "source": [
    "plt.plot(plt_list)"
   ]
  }
 ],
 "metadata": {
  "kernelspec": {
   "display_name": "quant_platform",
   "language": "python",
   "name": "python3"
  },
  "language_info": {
   "codemirror_mode": {
    "name": "ipython",
    "version": 3
   },
   "file_extension": ".py",
   "mimetype": "text/x-python",
   "name": "python",
   "nbconvert_exporter": "python",
   "pygments_lexer": "ipython3",
   "version": "3.8.19"
  }
 },
 "nbformat": 4,
 "nbformat_minor": 2
}
