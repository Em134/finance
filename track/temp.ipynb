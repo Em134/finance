{
 "cells": [
  {
   "cell_type": "code",
   "execution_count": 3,
   "metadata": {},
   "outputs": [
    {
     "data": {
      "text/plain": [
       ".ErrorCode=0\n",
       ".Data=[Already connected!]"
      ]
     },
     "execution_count": 3,
     "metadata": {},
     "output_type": "execute_result"
    }
   ],
   "source": [
    "from WindPy import w\n",
    "w.start()"
   ]
  },
  {
   "cell_type": "code",
   "execution_count": 1,
   "metadata": {},
   "outputs": [],
   "source": [
    "from Modules import PortfolioState\n",
    "from Modules import DateHelper\n",
    "from dateutil.relativedelta import relativedelta\n",
    "\n",
    "\n",
    "start_date = '20240126'\n",
    "date_helper = DateHelper()"
   ]
  },
  {
   "cell_type": "code",
   "execution_count": 3,
   "metadata": {},
   "outputs": [],
   "source": [
    "from dataclasses import dataclass, field\n",
    "\n",
    "\n",
    "@dataclass\n",
    "class WeeklyData:\n",
    "    signal_for_next_week = None\n",
    "    signal_in_week = None\n",
    "    \n",
    "    repositioning_day_first = None\n",
    "    repositioning_day_first_close = None\n",
    "    repositioning_day_first_stage_one_money = None\n",
    "    repositioning_day_first_stage_two_money = None\n",
    "    \n",
    "    repositioning_day_second = None\n",
    "    repositioning_day_second_close = None\n",
    "    repositioning_day_second_stage_one_money = None\n",
    "    repositioning_day_second_stage_two_money = None\n",
    "\n",
    "    def show(self) -> None:\n",
    "        \"\"\"\n",
    "        打印出本周数据的当前状态，包括所有属性和它们的值。\n",
    "        \"\"\"\n",
    "        for attr, value in self.__dict__.items():\n",
    "            print(f\"{attr}: {value}\")"
   ]
  },
  {
   "cell_type": "code",
   "execution_count": 2,
   "metadata": {},
   "outputs": [
    {
     "ename": "NameError",
     "evalue": "name 'date_helper' is not defined",
     "output_type": "error",
     "traceback": [
      "\u001b[1;31m---------------------------------------------------------------------------\u001b[0m",
      "\u001b[1;31mNameError\u001b[0m                                 Traceback (most recent call last)",
      "Cell \u001b[1;32mIn[2], line 34\u001b[0m\n\u001b[0;32m     30\u001b[0m         \u001b[38;5;28;01melse\u001b[39;00m:\n\u001b[0;32m     31\u001b[0m             \u001b[38;5;28mself\u001b[39m\u001b[38;5;241m.\u001b[39mintra_week_signal_day \u001b[38;5;241m=\u001b[39m \u001b[38;5;28;01mNone\u001b[39;00m\n\u001b[1;32m---> 34\u001b[0m week \u001b[38;5;241m=\u001b[39m Week(\u001b[43mdate_helper\u001b[49m, \u001b[38;5;124m'\u001b[39m\u001b[38;5;124m20240501\u001b[39m\u001b[38;5;124m'\u001b[39m)\n\u001b[0;32m     35\u001b[0m week\u001b[38;5;241m.\u001b[39mtrading_days\n",
      "\u001b[1;31mNameError\u001b[0m: name 'date_helper' is not defined"
     ]
    }
   ],
   "source": [
    "import datetime\n",
    "\n",
    "class Week:\n",
    "    def __init__(self, helper, mark_day) -> None:\n",
    "        self.start, self.end = helper.get_target_week(mark_day)\n",
    "        self.trading_days = w.tdays(self.start, self.end, '').Data[0]\n",
    "        self.first_repositioning_day = self.trading_days[0]\n",
    "        self.final_signal_day = self.trading_days[-1]\n",
    "        self.set_intra_week_signal_day()\n",
    "        \n",
    "    @staticmethod\n",
    "    def get_weekday_name(date_obj):\n",
    "        weekdays = [\"Monday\", \"Tuesday\", \"Wednesday\", \"Thursday\", \"Friday\", \"Saturday\", \"Sunday\"]\n",
    "        return weekdays[date_obj.weekday()]\n",
    "    \n",
    "    def is_first_repositioning_day_after_tuesday(self):\n",
    "        weekday_index = self.first_repositioning_day.weekday()\n",
    "        return weekday_index > 1\n",
    "    \n",
    "    def set_intra_week_signal_day(self):\n",
    "        # 检查是否有周二\n",
    "        tuesday = next((day for day in self.trading_days if day.weekday() == 1), None)\n",
    "        # 如果没有周二，检查是否有周一\n",
    "        monday = next((day for day in self.trading_days if day.weekday() == 0), None)\n",
    "        \n",
    "        if tuesday:\n",
    "            self.intra_week_signal_day = tuesday\n",
    "        elif monday:\n",
    "            self.intra_week_signal_day = monday\n",
    "        else:\n",
    "            self.intra_week_signal_day = None\n",
    "\n",
    "\n",
    "week = Week(date_helper, '20240501')\n",
    "week.trading_days"
   ]
  },
  {
   "cell_type": "code",
   "execution_count": null,
   "metadata": {},
   "outputs": [],
   "source": []
  },
  {
   "cell_type": "code",
   "execution_count": 2,
   "metadata": {},
   "outputs": [],
   "source": []
  },
  {
   "cell_type": "code",
   "execution_count": 1,
   "metadata": {},
   "outputs": [
    {
     "name": "stdout",
     "output_type": "stream",
     "text": [
      "Welcome to use Wind Quant API for Python (WindPy)!\n",
      "\n",
      "COPYRIGHT (C) 2024 WIND INFORMATION CO., LTD. ALL RIGHTS RESERVED.\n",
      "IN NO CIRCUMSTANCE SHALL WIND BE RESPONSIBLE FOR ANY DAMAGES OR LOSSES CAUSED BY USING WIND QUANT API FOR Python.\n",
      "Wind terminal started successfully.\n"
     ]
    }
   ],
   "source": [
    "import datetime\n",
    "from typing import Union\n",
    "from Modules import DateHelper, StockDataFetcher\n",
    "import pandas as pd\n",
    "from typing import Tuple, List\n",
    "import WindPy\n",
    "\n",
    "\n",
    "class TradingDay:\n",
    "    \"\"\"\n",
    "    一个封装了 datetime.datetime 功能的类，支持初始化时传入字符串或 datetime.datetime 对象。\n",
    "\n",
    "    Attributes:\n",
    "        dt (datetime.datetime): 内部的 datetime.datetime 实例。\n",
    "    \"\"\"\n",
    "\n",
    "    def __init__(self,\n",
    "                 input_date: Union[str, datetime.datetime],\n",
    "                 date_helper: DateHelper = DateHelper(),\n",
    "                 stock_helper: StockDataFetcher = StockDataFetcher(),\n",
    "                 ) -> None:\n",
    "        \"\"\"\n",
    "        初始化 TradingDay 类。\n",
    "\n",
    "        参数:\n",
    "        input_date (Union[str, datetime.datetime]): 输入的日期，可以是字符串或 datetime.datetime 对象。\n",
    "        \"\"\"\n",
    "        self.date_helper = date_helper\n",
    "        self.stock_helper = stock_helper\n",
    "        if isinstance(input_date, str):\n",
    "            self.dt = self.date_helper.convert_to_timestamp(input_date)\n",
    "        elif isinstance(input_date, datetime.datetime):\n",
    "            self.dt = input_date\n",
    "        else:\n",
    "            raise ValueError(\"input_date 必须是字符串或 datetime.datetime 类型。\")\n",
    "\n",
    "        if not self.date_helper.is_trading_day(self.dt):\n",
    "            raise ValueError(\"给定日期不是交易日。\")\n",
    "\n",
    "    def close(self, code: str, close_type: str = \"close\", priceAdj: str = \"U\", cycle: str = \"D\"):\n",
    "        return self.stock_helper.close(code=code, close_type=close_type, priceAdj=priceAdj, cycle=cycle)\n",
    "\n",
    "    def minute_price(self,\n",
    "                     code: str,\n",
    "                     start_date: Union[str, datetime.datetime] = None,\n",
    "                     end_date: Union[str, datetime.datetime] = None,\n",
    "                     frequency: str = '1'\n",
    "                     ) -> pd.DataFrame:\n",
    "        \"\"\"\n",
    "        获取股票的收盘价数据。\n",
    "\n",
    "        参数:\n",
    "        code (str): 股票代码。\n",
    "        start_date (str or datetime.datetime, optional): 开始日期, 默认为昨天。\n",
    "            - 如果是 str, 支持 \"YYYYMMDD\", \"YYYY-MM-DD\", \"YYYYMMDD HH:MM:SS\", \"YYYY-MM-DD HH:MM:SS\" 格式。\n",
    "            - 如果是 datetime.datetime, 将直接使用该对象。\n",
    "            默认值: None, 表示使用昨天的日期。\n",
    "        end_date (str or datetime.datetime, optional): 结束日期, 默认为当前时间。\n",
    "            - 如果是 str, 支持 \"YYYYMMDD\", \"YYYY-MM-DD\", \"YYYYMMDD HH:MM:SS\", \"YYYY-MM-DD HH:MM:SS\" 格式。\n",
    "            - 如果是 datetime.datetime, 将直接使用该对象。\n",
    "            默认值: None, 表示使用当前时间。\n",
    "        frequency (str, optional): 数据获取频率, 默认为 '1' 分钟。\n",
    "            - 可以是 '1', '3', '5', '10', '15', '30', '60' 等分钟级别, 或者 'D' 日频, 'W' 周频等。\n",
    "\n",
    "        返回:\n",
    "        pandas.DataFrame: 包含收盘价数据的 DataFrame。\n",
    "\n",
    "        示例:\n",
    "        >>> DataFetcher = DataFetcher()\n",
    "        >>> data_df = DataFetcher.get_stock_close_price('000852.SH')\n",
    "        >>> print(data_df)\n",
    "        \"\"\"\n",
    "\n",
    "        return self.stock_helper.get_stock_price(code=code, start_date=start_date, end_date=end_date,\n",
    "                                                 frequency=frequency)\n",
    "\n",
    "    def __getattr__(self, name):\n",
    "        \"\"\"\n",
    "        代理所有未定义的属性和方法到内部的 datetime.datetime 实例。\n",
    "        \"\"\"\n",
    "        return getattr(self.dt, name)\n",
    "\n",
    "    def __repr__(self):\n",
    "        \"\"\"\n",
    "        返回对象的字符串表示形式。\n",
    "        \"\"\"\n",
    "        return repr(self.dt)\n",
    "\n",
    "    def __str__(self):\n",
    "        \"\"\"\n",
    "        返回对象的字符串表示形式。\n",
    "        \"\"\"\n",
    "        return str(self.dt)\n",
    "\n",
    "    def format(self, fmt: str) -> str:\n",
    "        \"\"\"\n",
    "        格式化日期时间字符串。\n",
    "\n",
    "        参数:\n",
    "        fmt (str): 格式字符串，如 '%Y-%m-%d %H:%M:%S'。\n",
    "\n",
    "        返回:\n",
    "        str: 格式化的日期时间字符串。\n",
    "        \"\"\"\n",
    "        return self.dt.strftime(fmt)\n",
    "\n",
    "    def __add__(self, other: datetime.timedelta) -> 'TradingDay':\n",
    "        \"\"\"\n",
    "        支持加法操作。\n",
    "\n",
    "        参数:\n",
    "        other (timedelta): 要加上的时间间隔。\n",
    "\n",
    "        返回:\n",
    "        TradingDay: 新的 TradingDay 实例。\n",
    "        \"\"\"\n",
    "        new_dt = self.dt + other\n",
    "        return TradingDay(new_dt)\n",
    "\n",
    "    def __sub__(self, other: Union['TradingDay', datetime.timedelta]) -> Union['TradingDay', datetime.timedelta]:\n",
    "        \"\"\"\n",
    "        支持减法操作。\n",
    "\n",
    "        参数:\n",
    "        other (Union[TradingDay, timedelta]): 要减去的时间间隔或 TradingDay 实例。\n",
    "\n",
    "        返回:\n",
    "        Union[TradingDay, timedelta]: 新的 TradingDay 实例或时间间隔。\n",
    "        \"\"\"\n",
    "        if isinstance(other, datetime.timedelta):\n",
    "            new_dt = self.dt - other\n",
    "            return TradingDay(new_dt)\n",
    "        elif isinstance(other, TradingDay):\n",
    "            return self.dt - other.dt\n",
    "        else:\n",
    "            raise TypeError(\"Unsupported operand type for -: 'TradingDay' and '{}'\".format(type(other).__name__))\n",
    "\n",
    "    def __lt__(self, other):\n",
    "        if isinstance(other, TradingDay):\n",
    "            return self.dt < other.dt\n",
    "        elif isinstance(other, datetime.datetime):\n",
    "            return self.dt < other\n",
    "        else:\n",
    "            raise TypeError(\"Unsupported operand type for <: 'TradingDay' and '{}'\".format(type(other).__name__))\n",
    "\n",
    "    def __le__(self, other):\n",
    "        if isinstance(other, TradingDay):\n",
    "            return self.dt <= other.dt\n",
    "        elif isinstance(other, datetime.datetime):\n",
    "            return self.dt <= other\n",
    "        else:\n",
    "            raise TypeError(\"Unsupported operand type for <=: 'TradingDay' and '{}'\".format(type(other).__name__))\n",
    "\n",
    "    def __gt__(self, other):\n",
    "        if isinstance(other, TradingDay):\n",
    "            return self.dt > other.dt\n",
    "        elif isinstance(other, datetime.datetime):\n",
    "            return self.dt > other\n",
    "        else:\n",
    "            raise TypeError(\"Unsupported operand type for >: 'TradingDay' and '{}'\".format(type(other).__name__))\n",
    "\n",
    "    def __ge__(self, other):\n",
    "        if isinstance(other, TradingDay):\n",
    "            return self.dt >= other.dt\n",
    "        elif isinstance(other, datetime.datetime):\n",
    "            return self.dt >= other\n",
    "        else:\n",
    "            raise TypeError(\"Unsupported operand type for >=: 'TradingDay' and '{}'\".format(type(other).__name__))\n",
    "    "
   ]
  },
  {
   "cell_type": "code",
   "execution_count": 3,
   "metadata": {},
   "outputs": [
    {
     "data": {
      "text/plain": [
       "Timestamp('2024-04-25 00:00:00')"
      ]
     },
     "execution_count": 3,
     "metadata": {},
     "output_type": "execute_result"
    }
   ],
   "source": [
    "a = TradingDay('20240426')\n",
    "a - datetime.timedelta(days=1)"
   ]
  },
  {
   "cell_type": "code",
   "execution_count": 4,
   "metadata": {},
   "outputs": [],
   "source": [
    "from WindPy import w"
   ]
  },
  {
   "cell_type": "code",
   "execution_count": 5,
   "metadata": {},
   "outputs": [],
   "source": [
    "import datetime\n",
    "import WindPy\n",
    "\n",
    "\n",
    "class TradingWeek:\n",
    "    def __init__(self, mark_day: Union[str, datetime.datetime, TradingDay], w: WindPy.w, helper: DateHelper = DateHelper(), intra_reposition: bool = True) -> None:\n",
    "        \"\"\"\n",
    "        初始化 Week 类，用于计算指定周的交易日信息。\n",
    "\n",
    "        参数:\n",
    "        helper (DateHelper): 提供辅助方法的对象，例如获取目标周。\n",
    "        mark_day (Union[str, datetime.datetime, TradingDay]): 用于计算目标周的标记日期。\n",
    "        w (WindPy.w): Wind API, 用于获取交易日。\n",
    "        intra_reposition (bool): 是否启用周内重新定位, 默认为True。\n",
    "        \"\"\"\n",
    "        self.w = w\n",
    "        self.intra_reposition = intra_reposition\n",
    "        if isinstance(mark_day, TradingDay):\n",
    "            mark_day = mark_day.dt\n",
    "        self.start, self.end = helper.get_target_week(mark_day)\n",
    "        self.trading_days = self._get_trading_days()\n",
    "        self.early_week_days, self.late_week_days = self._split_week_days()\n",
    "\n",
    "        if not self.trading_days:\n",
    "            self.has_trading_days = False\n",
    "            self.no_trading_days_error()\n",
    "        else:\n",
    "            self.has_trading_days = True\n",
    "            if isinstance(self.trading_days[0], datetime.datetime):\n",
    "                self.first_repositioning_day = TradingDay(self.trading_days[0])\n",
    "            else:\n",
    "                self.first_repositioning_day = self.trading_days[0]\n",
    "            if isinstance(self.trading_days[-1], datetime.datetime):\n",
    "                self.final_signal_generating_day = TradingDay(self.trading_days[-1])\n",
    "            else:\n",
    "                self.final_signal_generating_day = self.trading_days[-1]\n",
    "\n",
    "            if not self.early_week_days:\n",
    "                self.intra_reposition = False\n",
    "\n",
    "            if self.intra_reposition:\n",
    "                if isinstance(self.early_week_days[-1], datetime.datetime):\n",
    "                    self.intra_signal_generating_day = TradingDay(self.early_week_days[-1])\n",
    "                else:\n",
    "                    self.intra_signal_generating_day = self.early_week_days[-1]\n",
    "                if self.late_week_days and isinstance(self.late_week_days[0], datetime.datetime):\n",
    "                    self.intra_repositioning_day = TradingDay(self.late_week_days[0])\n",
    "                else:\n",
    "                    self.intra_repositioning_day = self.late_week_days[0] if self.late_week_days else self.early_week_days[-1]\n",
    "\n",
    "    def _get_trading_days(self) -> List[TradingDay]:\n",
    "        \"\"\"\n",
    "        使用 WindPy 库获取从开始日期到结束日期之间的所有交易日。\n",
    "        \"\"\"\n",
    "        trading_days_datetime = self.w.tdays(self.start, self.end, '').Data[0]\n",
    "        trading_days = [TradingDay(day) if isinstance(day, datetime.datetime) else day for day in trading_days_datetime]\n",
    "        return trading_days\n",
    "\n",
    "    def _split_week_days(self) -> Tuple[List[TradingDay], List[TradingDay]]:\n",
    "        \"\"\"\n",
    "        将交易日分为两个列表：早于等于周二的交易日和晚于周二的交易日。\n",
    "        如果找不到周二的交易日, 则所有交易日都视为早期交易日。\n",
    "        \"\"\"\n",
    "        tuesday = next((day for day in self.trading_days if day.weekday() == 1), None)\n",
    "        if tuesday:\n",
    "            early_week = [day for day in self.trading_days if day <= tuesday]\n",
    "            late_week = [day for day in self.trading_days if day > tuesday]\n",
    "        else:\n",
    "            early_week = list(self.trading_days)\n",
    "            late_week = []\n",
    "        return early_week, late_week\n",
    "\n",
    "    def no_trading_days_error(self) -> None:\n",
    "        \"\"\"\n",
    "        当没有交易日时触发的错误处理方法。\n",
    "        抛出 ValueError 异常。\n",
    "        \"\"\"\n",
    "        raise ValueError(\"在开始和结束日期之间未找到交易日。\")\n",
    "    \n",
    "    "
   ]
  },
  {
   "cell_type": "code",
   "execution_count": 6,
   "metadata": {},
   "outputs": [],
   "source": [
    "q = TradingWeek('20240501', w)"
   ]
  },
  {
   "cell_type": "code",
   "execution_count": 7,
   "metadata": {},
   "outputs": [
    {
     "data": {
      "text/plain": [
       ".ErrorCode=0\n",
       ".Codes=[000852.SH]\n",
       ".Fields=[CLOSE]\n",
       ".Times=[20240902 13:10:51]\n",
       ".Data=[[4629.3195]]"
      ]
     },
     "execution_count": 7,
     "metadata": {},
     "output_type": "execute_result"
    }
   ],
   "source": [
    "q.early_week_days[0].close('000852.SH')"
   ]
  },
  {
   "cell_type": "code",
   "execution_count": 46,
   "metadata": {},
   "outputs": [
    {
     "data": {
      "text/plain": [
       ".ErrorCode=0\n",
       ".Codes=[000001.SZ]\n",
       ".Fields=[CLOSE,OPEN,HIGH,LOW]\n",
       ".Times=[20240902 10:37:45]\n",
       ".Data=[[10.35],[10.3],[10.38],[10.21]]"
      ]
     },
     "execution_count": 46,
     "metadata": {},
     "output_type": "execute_result"
    }
   ],
   "source": [
    "w.wss(\"000001.SZ\", \"close,open,high,low\",\"tradeDate=20240821;priceAdj=U;cycle=D\")"
   ]
  },
  {
   "cell_type": "code",
   "execution_count": 57,
   "metadata": {},
   "outputs": [
    {
     "name": "stdout",
     "output_type": "stream",
     "text": [
      "20240426\n"
     ]
    },
    {
     "data": {
      "text/plain": [
       ".ErrorCode=0\n",
       ".Codes=[000852.SH]\n",
       ".Fields=[CLOSE]\n",
       ".Times=[20240902 10:38:42]\n",
       ".Data=[[5415.9379]]"
      ]
     },
     "execution_count": 57,
     "metadata": {},
     "output_type": "execute_result"
    }
   ],
   "source": [
    "a.close('000852.SH')"
   ]
  },
  {
   "cell_type": "code",
   "execution_count": 9,
   "metadata": {},
   "outputs": [],
   "source": [
    "aa = w.wss(\"000001.SZ\", \"pre_close,pre_close_exch,open,high,low,close,dq_stockclose,volume,volume_btin,amt,amount_btin,dealnum,volume_aht,amount_aht,chg,pct_chg,pct_chg_b,swing,vwap,adjfactor,close2,turn,free_turn_n,dq_amtturnover,oi,oi_chg,oi_index,oichange,oiamount_nomargin,oiamount,pre_settle,settle,dq_settle,chg_settlement,pctchange_close,pct_chg_settlement,lastradeday_s,firstradeday_s,last_trade_day,rel_ipo_chg,rel_ipo_pct_chg,trade_status,val_mv_ARD,val_mvc,susp_days,susp_reason,maxupordown,maxup,maxdown,discount,discount_ratio,open3,high3,low3,close3,indexweight,settle3,oi3,close_FX,close_usd,premiumrate_ah,direction_gold,dquantity_gold,close_night,dq_close_night,free_turn,open_auction_price,open_auction_volume,open_auction_amount\",\"tradeDate=20240901;priceAdj=U;cycle=D;unit=1;bondPriceType=2;adjDate=20240901;windCode3=0\")"
   ]
  },
  {
   "cell_type": "code",
   "execution_count": 10,
   "metadata": {},
   "outputs": [
    {
     "data": {
      "text/plain": [
       "Timestamp('2024-04-26 00:00:00')"
      ]
     },
     "execution_count": 10,
     "metadata": {},
     "output_type": "execute_result"
    }
   ],
   "source": [
    "a"
   ]
  },
  {
   "cell_type": "code",
   "execution_count": 11,
   "metadata": {},
   "outputs": [
    {
     "data": {
      "text/plain": [
       "Timestamp('2024-04-26 10:30:00')"
      ]
     },
     "execution_count": 11,
     "metadata": {},
     "output_type": "execute_result"
    }
   ],
   "source": [
    "a + datetime.timedelta(hours=10) + datetime.timedelta(minutes=30)"
   ]
  },
  {
   "cell_type": "code",
   "execution_count": 22,
   "metadata": {},
   "outputs": [
    {
     "data": {
      "text/plain": [
       "[125.049335]"
      ]
     },
     "execution_count": 22,
     "metadata": {},
     "output_type": "execute_result"
    }
   ],
   "source": [
    "aa.Data[aa.Fields.index('ADJFACTOR')]"
   ]
  }
 ],
 "metadata": {
  "kernelspec": {
   "display_name": "quant_platform",
   "language": "python",
   "name": "python3"
  },
  "language_info": {
   "codemirror_mode": {
    "name": "ipython",
    "version": 3
   },
   "file_extension": ".py",
   "mimetype": "text/x-python",
   "name": "python",
   "nbconvert_exporter": "python",
   "pygments_lexer": "ipython3",
   "version": "3.8.19"
  }
 },
 "nbformat": 4,
 "nbformat_minor": 2
}
