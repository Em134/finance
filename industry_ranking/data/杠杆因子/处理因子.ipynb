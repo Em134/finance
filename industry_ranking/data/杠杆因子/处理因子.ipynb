{
 "cells": [
  {
   "cell_type": "code",
   "execution_count": 1,
   "metadata": {},
   "outputs": [],
   "source": [
    "import matplotlib.rcsetup\n",
    "import pandas as pd\n",
    "import numpy as np\n",
    "import helper\n",
    "matplotlib.rcParams['font.family'] = ['Heiti TC']"
   ]
  },
  {
   "cell_type": "code",
   "execution_count": 10,
   "metadata": {},
   "outputs": [
    {
     "name": "stdout",
     "output_type": "stream",
     "text": [
      "数据读取完毕\n"
     ]
    }
   ],
   "source": [
    "'''万得杠杆因子计算'''\n",
    "factors = ['fa_ltdebttoasset', 'fa_debttoasset', 'fa_cashrecovratio_ttm', 'fa_equityassetradio']\n",
    "industries = pd.read_excel('../申万一级权重/申银万国一级行业指数_copy.xlsx')\n",
    "\n",
    "# 数据读取\n",
    "all_ind_data = {}\n",
    "all_weights = {}\n",
    "for i in industries.index:\n",
    "    ind_name = industries.loc[i, '名称']\n",
    "    code = industries.loc[i, '代码']\n",
    "    sliced_ind_name = ind_name[:-4]\n",
    "    # print(sliced_ind_name)\n",
    "    if sliced_ind_name == '银行' or sliced_ind_name == '非银金融':\n",
    "        continue\n",
    "\n",
    "    dfs = pd.read_excel('./个股分类因子/' + sliced_ind_name + '.xlsx', sheet_name=factors, index_col=0, skiprows=3)\n",
    "\n",
    "    all_ind_data[ind_name] = dfs  # 所有数据存在all_ind_data里\n",
    "\n",
    "    weight = pd.read_csv('../申万一级权重/wind_weights/' + sliced_ind_name + '_weights.csv', index_col=0)\n",
    "    weight.index = pd.to_datetime(weight.index)\n",
    "    all_weights[ind_name] = weight\n",
    "\n",
    "mkt_data = pd.read_csv('../A_流通市值/A股流通市值.csv', index_col=0)\n",
    "mkt_data.index = pd.to_datetime(mkt_data.index, format='%Y%m%d')\n",
    "wind_ind_data = pd.read_csv('../A_流通市值/A股wind行业分类.csv', index_col=0).ffill().bfill()\n",
    "wind_ind_data.index = pd.to_datetime(wind_ind_data.index, format='%Y%m%d')\n",
    "wind_ind_data = wind_ind_data // 1000000\n",
    "\n",
    "print('数据读取完毕')"
   ]
  },
  {
   "cell_type": "code",
   "execution_count": null,
   "metadata": {},
   "outputs": [],
   "source": [
    "# 创建数据存储\n",
    "save_data = {}\n",
    "for f in factors:\n",
    "    save_data[f] = pd.DataFrame(None, index=wind_ind_data.index, columns=wind_ind_data.columns)\n",
    "\n",
    "# 数据处理\n",
    "for date in mkt_data.index:  # 时间截面\n",
    "    print(date)\n",
    "    all_stocks_codes = []  # list of Series, 之后用来concat\n",
    "    ltdebt = []\n",
    "    dtoa = []\n",
    "    cashback = []\n",
    "    equity = []\n",
    "\n",
    "    for ind in industries['名称']:  # 循环申万工业\n",
    "        if ind == '银行(申万)' or ind == '非银金融(申万)':\n",
    "            continue\n",
    "        stocks_codes = all_weights[ind].loc[date]  # 申万指数成分股(BJ excluded)\n",
    "        stocks_codes = stocks_codes.dropna()\n",
    "        stocks_codes = stocks_codes[stocks_codes != 0].drop_duplicates()  # 筛选出所有权重不是0也不是空的的股票\n",
    "        stocks_codes = list(stocks_codes.index)\n",
    "\n",
    "        # 从所有factor中提取数据并合并\n",
    "        ltdebt.append(all_ind_data[ind]['fa_ltdebttoasset'].loc[date, stocks_codes])\n",
    "        dtoa.append(all_ind_data[ind]['fa_debttoasset'].loc[date, stocks_codes])\n",
    "        cashback.append(all_ind_data[ind]['fa_cashrecovratio_ttm'].loc[date, stocks_codes])\n",
    "        equity.append(all_ind_data[ind]['fa_equityassetradio'].loc[date, stocks_codes])\n",
    "        all_stocks_codes.append(pd.Series(stocks_codes))\n",
    "\n",
    "    # concat, 读取mkt, wind_ind\n",
    "    series_ltdebt = pd.concat(ltdebt).drop_duplicates()\n",
    "    series_dtoa = pd.concat(dtoa).drop_duplicates()\n",
    "    series_cashback = pd.concat(cashback).drop_duplicates()\n",
    "    series_equity = pd.concat(equity).drop_duplicates()\n",
    "    series_all_codes = pd.concat(all_stocks_codes).drop_duplicates()\n",
    "    series_wind_ind = wind_ind_data.loc[date, list(series_all_codes)]\n",
    "    series_mkt = mkt_data.loc[date, list(series_all_codes)]\n",
    "\n",
    "    # 处理因子\n",
    "    factor_series = {'fa_ltdebttoasset': series_ltdebt,\n",
    "                     'fa_debttoasset': series_dtoa,\n",
    "                     'fa_cashrecovratio_ttm': series_cashback,\n",
    "                     'fa_equityassetradio': series_equity}\n",
    "    for f in factors:\n",
    "        s = factor_series[f]\n",
    "        s = helper.mad_outlier(s)\n",
    "        s = helper.md_fill_black(s, series_wind_ind)\n",
    "        s = helper.ind_mkt_neutralization(s, series_mkt, series_wind_ind)\n",
    "        s = helper.wind_standardize(s, series_mkt)\n",
    "        save_data[f].loc[date] = s\n",
    "\n",
    "for f in factors:\n",
    "    save_data[f].to_csv('./处理后个股二级因子/处理后' + f + '.csv')"
   ]
  },
  {
   "cell_type": "markdown",
   "metadata": {},
   "source": [
    "画图，看分布，正式跑的时候可掠过"
   ]
  },
  {
   "cell_type": "code",
   "execution_count": null,
   "metadata": {},
   "outputs": [],
   "source": [
    "import matplotlib.pyplot as plt\n",
    "\n",
    "def plot_histogram(data: pd.Series):\n",
    "    plt.figure(figsize=(8, 6))\n",
    "    plt.hist(data, bins=30, edgecolor='k', alpha=0.7)\n",
    "    plt.title('Histogram')\n",
    "    plt.xlabel('Value')\n",
    "    plt.ylabel('Frequency')\n",
    "    plt.show()\n",
    "\n",
    "dfs = {}\n",
    "for f in factors[0:2]:\n",
    "    print(f)\n",
    "    data = pd.read_csv('./处理后个股二级因子/处理后' + f + '.csv', index_col=0)\n",
    "    data.index = pd.to_datetime(data.index)\n",
    "    for date in data.index:\n",
    "        print(date)\n",
    "        values = data.loc[date].dropna()\n",
    "        print(values.mean(), values.std())\n",
    "        plot_histogram(values)\n",
    "        break\n",
    "\n",
    "# print(mkt_data.isnull().sum(axis=1))"
   ]
  },
  {
   "cell_type": "markdown",
   "metadata": {},
   "source": [
    "检验处理过程 正式跑的时候掠过"
   ]
  },
  {
   "cell_type": "code",
   "execution_count": null,
   "metadata": {},
   "outputs": [],
   "source": [
    "'''计算20240329的处理后因子'''\n",
    "#\n",
    "t_date_ = '20220228'\n",
    "t_factor_name = '股东权益比率'\n",
    "#\n",
    "t_file_path = './对比计算结果/' + t_date_ + '/'\n",
    "\n",
    "t_facotr = pd.read_excel(t_file_path + '因子分析报告_' + t_factor_name + '_' + t_date_ + '.xlsx', index_col=0)\n",
    "t_mkt = pd.read_excel(t_file_path + t_date_ + '.xlsx', index_col=0)\n",
    "t_mkt.columns = ['name', 'wind_ind','mkt', 'mkt_w']\n",
    "\n",
    "t_joined_data = pd.concat([t_facotr.loc[:,['原始数据']], t_mkt], axis=1, join='inner') # inner: t_mkt里没有一些已退市的股票信息\n",
    "\n",
    "t_s = t_joined_data['原始数据'].copy()\n",
    "t_series_wind_ind = t_joined_data['wind_ind']\n",
    "t_series_mkt = t_joined_data['mkt_w']\n",
    "t_s = helper.mad_outlier(t_s)\n",
    "t_s = helper.md_fill_black(t_s, t_series_wind_ind)\n",
    "t_s = helper.ind_mkt_neutralization(t_s, t_series_mkt, t_series_wind_ind)\n",
    "\n",
    "t_s = helper.wind_standardize(t_s, t_series_mkt)\n",
    "\n",
    "t_output = pd.concat([t_facotr['原始数据'], t_s], axis=1, join='inner')  # inner: t_facotr里包含一些已退市的股票数据（无法获得）\n",
    "t_output.to_csv(t_file_path + t_date_ + '_testing.csv')\n",
    "print(t_output)\n",
    "\n",
    "'''mean and std 分析'''\n",
    "test = pd.read_csv(t_file_path + t_date_ + '_testing.csv', index_col=0)\n",
    "print(test['new_factor'].mean(), test['new_factor'].std())\n",
    "actual = pd.read_excel(t_file_path + '因子分析报告_' + t_factor_name + '_' + t_date_ + '.xlsx', index_col=0)\n",
    "\n",
    "actual = actual.loc[test.index]\n",
    "print('corr:', test['new_factor'].corr(actual['处理后数据']))\n",
    "test['处理后数据'] = actual['处理后数据']\n",
    "print(test.isnull().sum())\n",
    "test.to_csv(t_file_path + t_date_ + '_testing.csv')"
   ]
  },
  {
   "cell_type": "code",
   "execution_count": null,
   "metadata": {},
   "outputs": [],
   "source": []
  }
 ],
 "metadata": {
  "kernelspec": {
   "display_name": "csci360",
   "language": "python",
   "name": "python3"
  },
  "language_info": {
   "codemirror_mode": {
    "name": "ipython",
    "version": 3
   },
   "file_extension": ".py",
   "mimetype": "text/x-python",
   "name": "python",
   "nbconvert_exporter": "python",
   "pygments_lexer": "ipython3",
   "version": "3.10.13"
  }
 },
 "nbformat": 4,
 "nbformat_minor": 2
}
