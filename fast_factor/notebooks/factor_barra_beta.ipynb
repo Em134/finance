{
 "cells": [
  {
   "cell_type": "markdown",
   "metadata": {},
   "source": [
    "## 调整文件目录"
   ]
  },
  {
   "cell_type": "code",
   "execution_count": 1,
   "metadata": {},
   "outputs": [
    {
     "name": "stdout",
     "output_type": "stream",
     "text": [
      "Current directory: e:\\VSCodeFiles\\quant\\best\\notebooks\n",
      "New working directory: e:\\VSCodeFiles\\quant\\best\n"
     ]
    }
   ],
   "source": [
    "\"\"\" 由于笔记本被收纳到单独的文件夹里，运行时 需且仅需一次 运行本模块来调整工作目录到项目目录下 \"\"\"\n",
    "import os\n",
    "\n",
    "\n",
    "# 获取当前工作目录\n",
    "current_dir = os.getcwd()\n",
    "print(\"Current directory:\", current_dir)\n",
    "\n",
    "# 设置工作目录为上一级目录\n",
    "parent_dir = os.path.dirname(current_dir)\n",
    "os.chdir(parent_dir)\n",
    "print(\"New working directory:\", os.getcwd())"
   ]
  },
  {
   "cell_type": "markdown",
   "metadata": {},
   "source": [
    "## 正文"
   ]
  },
  {
   "cell_type": "markdown",
   "metadata": {},
   "source": [
    "### 获取数据与数据预处理"
   ]
  },
  {
   "cell_type": "code",
   "execution_count": 2,
   "metadata": {},
   "outputs": [
    {
     "name": "stdout",
     "output_type": "stream",
     "text": [
      "Welcome to use Wind Quant API for Python (WindPy)!\n",
      "\n",
      "COPYRIGHT (C) 2024 WIND INFORMATION CO., LTD. ALL RIGHTS RESERVED.\n",
      "IN NO CIRCUMSTANCE SHALL WIND BE RESPONSIBLE FOR ANY DAMAGES OR LOSSES CAUSED BY USING WIND QUANT API FOR Python.\n"
     ]
    },
    {
     "data": {
      "text/plain": [
       ".ErrorCode=0\n",
       ".Data=[OK!]"
      ]
     },
     "execution_count": 2,
     "metadata": {},
     "output_type": "execute_result"
    }
   ],
   "source": [
    "import qstock as qs\n",
    "from sklearn.linear_model import LinearRegression\n",
    "import numpy as np\n",
    "import matplotlib.pyplot as plt\n",
    "import pandas as pd\n",
    "from WindPy import w\n",
    "from Modules import Helper\n",
    "\n",
    "import tushare as ts\n",
    "\n",
    "\n",
    "token = '519550beb1e16be8a2bbd60fd5148d3d851074e6f5ec866832560432'\n",
    "ts.set_token(token)\n",
    "pro = ts.pro_api()\n",
    "w.start()"
   ]
  },
  {
   "cell_type": "markdown",
   "metadata": {},
   "source": [
    "### barra\n"
   ]
  },
  {
   "cell_type": "code",
   "execution_count": 6,
   "metadata": {},
   "outputs": [],
   "source": [
    "index_data = pd.read_csv('dataset\\index_data\\沪深300指数.csv')"
   ]
  },
  {
   "cell_type": "code",
   "execution_count": 128,
   "metadata": {},
   "outputs": [],
   "source": [
    "mv_ret = index_data.pivot(columns='ts_code', index='trade_date', values='pct_chg')\n",
    "mv_ret.index = mv_ret.index.astype(str)\n",
    "\n",
    "stock_data = w.wsd('600000.SH', \"close,open,high,low,pre_close,chg,pct_chg,volume,amt\", Helper.convert_date_format_1(mv_ret.index[0]), Helper.convert_date_format_1(mv_ret.index[-1]), \"\")\n",
    "stock_df = pd.DataFrame(np.array(stock_data.Data).T, columns=stock_data.Fields, index=stock_data.Times)\n",
    "stock_ret = pd.DataFrame(stock_df['PCT_CHG'])"
   ]
  },
  {
   "cell_type": "code",
   "execution_count": 133,
   "metadata": {},
   "outputs": [
    {
     "data": {
      "text/plain": [
       "((4774, 1), (4774, 1))"
      ]
     },
     "execution_count": 133,
     "metadata": {},
     "output_type": "execute_result"
    }
   ],
   "source": [
    "mv_ret.shape, stock_ret.shape"
   ]
  },
  {
   "cell_type": "code",
   "execution_count": 126,
   "metadata": {},
   "outputs": [],
   "source": []
  },
  {
   "cell_type": "code",
   "execution_count": 134,
   "metadata": {},
   "outputs": [],
   "source": [
    "class BarraBetaFactor:\n",
    "    def __init__(self, window_size=252, half_life=63) -> None:\n",
    "        super().__init__()\n",
    "        self.window_size = window_size\n",
    "        self.half_life = half_life\n",
    "    \n",
    "    @staticmethod\n",
    "    def ewma_weights(length=252, half_life=63):\n",
    "        \"\"\"\n",
    "        Calculate EWMA weights for a given length apnd half-life.\n",
    "\n",
    "        Parameters:\n",
    "        length (int): The number of data points.\n",
    "        half_life (float): The half-life for the weights.\n",
    "\n",
    "        Returns:\n",
    "        np.ndarray: Array of EWMA weights.\n",
    "        \"\"\"\n",
    "        # Calculate the smoothing factor alpha from the half-life\n",
    "        alpha = 1 - np.exp(-np.log(2) / half_life)\n",
    "\n",
    "        # Generate the weights\n",
    "        weights = alpha * (1 - alpha) ** np.arange(length)[::-1]\n",
    "\n",
    "        # Normalize the weights so they sum to 1\n",
    "        weights /= weights.sum()\n",
    "\n",
    "        return weights\n",
    "    \n",
    "    @staticmethod\n",
    "    def get_beta_hsigma_window(X, Y, W):\n",
    "        beta = np.linalg.pinv(X.T @ W @ X) @ X.T @ W @ Y\n",
    "        hist_sigma = np.std(Y - X @ beta, ddof=0)\n",
    "        return beta[1][0], hist_sigma\n",
    "    \n",
    "    def get_all(self, X_df, Y_df):\n",
    "        _weights = np.diag(self.ewma_weights(self.window_size, self.half_life))\n",
    "        if len(X_df) < self.window_size:\n",
    "            return None\n",
    "        \n",
    "        _beta_list = []\n",
    "        _hsigma_list = []\n",
    "        for _idx in range(self.window_size, len(X_df) + 1):\n",
    "            _X = np.c_[np.ones((self.window_size, 1)), X_df.values[(_idx - self.window_size): _idx, :]]\n",
    "            _Y = Y_df.values[_idx - self.window_size: _idx, :]\n",
    "            _beta, _sigma = self.get_beta_hsigma_window(_X, _Y, _weights)\n",
    "            _beta_list.append(_beta)\n",
    "            _hsigma_list.append(_sigma)\n",
    "\n",
    "        return _beta_list, _hsigma_list\n",
    "    \n",
    "\n",
    "beta, hist_sigma = BarraBetaFactor().get_all(stock_ret, mv_ret)"
   ]
  },
  {
   "cell_type": "code",
   "execution_count": 142,
   "metadata": {},
   "outputs": [],
   "source": [
    "import numpy as np\n",
    "import pandas as pd\n",
    "\n",
    "class BarraBetaFactor:\n",
    "    def __init__(self, window_size=252, half_life=63) -> None:\n",
    "        super().__init__()\n",
    "        self.window_size = window_size\n",
    "        self.half_life = half_life\n",
    "\n",
    "    @staticmethod\n",
    "    def ewma_weights(length=252, half_life=63):\n",
    "        alpha = 1 - np.exp(-np.log(2) / half_life)\n",
    "        weights = alpha * (1 - alpha) ** np.arange(length)[::-1]\n",
    "        weights /= weights.sum()\n",
    "        return weights\n",
    "\n",
    "    @staticmethod\n",
    "    def get_beta_hsigma_window(X, Y, W):\n",
    "        beta = np.linalg.pinv(X.T @ W @ X) @ X.T @ W @ Y\n",
    "        hist_sigma = np.std(Y - X @ beta, ddof=0)\n",
    "        return beta[1][0], hist_sigma\n",
    "\n",
    "    def get_all(self, X_df, Y_df):\n",
    "        _weights = np.diag(self.ewma_weights(self.window_size, self.half_life))\n",
    "        if len(X_df) < self.window_size:\n",
    "            return None\n",
    "\n",
    "        _beta_list = []\n",
    "        _hsigma_list = []\n",
    "        for _idx in range(self.window_size, len(X_df) + 1):\n",
    "            _X = np.c_[np.ones((self.window_size, 1)), X_df.values[(_idx - self.window_size): _idx, :]]\n",
    "            _Y = Y_df.values[_idx - self.window_size: _idx, :]\n",
    "            _beta, _sigma = self.get_beta_hsigma_window(_X, _Y, _weights)\n",
    "            _beta_list.append(_beta)\n",
    "            _hsigma_list.append(_sigma)\n",
    "\n",
    "        result_df = pd.DataFrame(index=X_df.index[self.window_size - 1:], columns=['beta', 'hist_sigma'])\n",
    "        result_df['beta'] = _beta_list\n",
    "        result_df['hist_sigma'] = _hsigma_list\n",
    "\n",
    "        return result_df\n",
    "    \n",
    "\n",
    "res = BarraBetaFactor().get_all(stock_ret, mv_ret)\n"
   ]
  }
 ],
 "metadata": {
  "kernelspec": {
   "display_name": "quant_platform",
   "language": "python",
   "name": "python3"
  },
  "language_info": {
   "codemirror_mode": {
    "name": "ipython",
    "version": 3
   },
   "file_extension": ".py",
   "mimetype": "text/x-python",
   "name": "python",
   "nbconvert_exporter": "python",
   "pygments_lexer": "ipython3",
   "version": "3.8.19"
  }
 },
 "nbformat": 4,
 "nbformat_minor": 2
}
